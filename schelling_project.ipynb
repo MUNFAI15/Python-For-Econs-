{
 "cells": [
  {
   "cell_type": "markdown",
   "metadata": {},
   "source": [
    "\n",
    "\n",
    "## Schelling Model - Motivation \n",
    "\n",
    "Many US cities are extremely racially segregated. People from the same race tend to live in the same neighborood. The map below is from Chicago. \n",
    "\n",
    "<img src=\"silver-segregation-hydepark-dot.png\" alt=\"alt text\" width=\"400\"/>\n",
    "\n",
    "\n",
    "This is a phenomenon that is common to most US cities, and also some European ones. Here is a map of London, showing a similar segregation:\n",
    "\n",
    "<img src=\"http://blogs.lshtm.ac.uk/news/files/2013/12/ethnic_density.jpg\" alt=\"alt text\" width=\"400\"/>\n"
   ]
  },
  {
   "cell_type": "markdown",
   "metadata": {},
   "source": [
    "Homophily: people tend to hang out with other people with similar characteristics. Schelling modelled this mechanism in a very simple setup, and then showed that, even abstracting from explanations relying on intolerance and racism, we would still get a pretty segregated urban landscape. "
   ]
  },
  {
   "cell_type": "markdown",
   "metadata": {},
   "source": [
    "\n",
    "## The Model\n",
    "\n",
    "<img src=\"CA-Moore.png\" alt=\"alt text\" width=\"200\"/>\n",
    "\n",
    "Simple rule: if the ratio of neighbours that belong to your race is lower than a specified threshold, you want to move to another neighbourhood, otherwise you stay where you are. A person that wants to stay is usually said to be satisfied with the location. A person that wants to move is called unsatisfied. \n",
    "\n"
   ]
  },
  {
   "cell_type": "markdown",
   "metadata": {},
   "source": [
    "## The code\n"
   ]
  },
  {
   "cell_type": "code",
   "execution_count": 80,
   "metadata": {},
   "outputs": [],
   "source": [
    "import matplotlib.pyplot as plt\n",
    "import itertools\n",
    "import random\n",
    "import copy"
   ]
  },
  {
   "cell_type": "markdown",
   "metadata": {},
   "source": [
    "#### A. Create a class called **Schelling**"
   ]
  },
  {
   "cell_type": "markdown",
   "metadata": {},
   "source": [
    "Constructor method, i.e. a function that will create an instance of the class with the attributes we want this class to have. Fill in the gaps in the following cell:"
   ]
  },
  {
   "cell_type": "code",
   "execution_count": 84,
   "metadata": {},
   "outputs": [
    {
     "data": {
      "image/png": "[encoded data removed]",
      "text/plain": [
       "<Figure size 432x288 with 1 Axes>"
      ]
     },
     "metadata": {
      "needs_background": "light"
     },
     "output_type": "display_data"
    },
    {
     "data": {
      "image/png": "[encoded data removed]",
      "text/plain": [
       "<Figure size 432x288 with 1 Axes>"
      ]
     },
     "metadata": {
      "needs_background": "light"
     },
     "output_type": "display_data"
    }
   ],
   "source": [
    "import random\n",
    "import itertools\n",
    "import matplotlib.pyplot as plt\n",
    "import numpy as np\n",
    "\n",
    "class Schelling():\n",
    "    \n",
    "    def __init__(self, width, height, empty, similarity, n, races): # this is the constructor method, add all the arguments of this method as specified in the instructions\n",
    "        # add attributes here:\n",
    "        self.width = width\n",
    "        self.height = height\n",
    "        self.empty_ratio = empty\n",
    "        self.similarity_threshold = similarity\n",
    "        self.n_iterations = n\n",
    "        self.races = races\n",
    "    \n",
    "    def populate(self):      \n",
    "        self.empty_houses = [] \n",
    "#         self.occupied_houses = []\n",
    "        self.agents = {} #dict()\n",
    "        self.all_houses = list(itertools.product(range(0,self.width), range(0,self.height)))\n",
    "        random.shuffle(self.all_houses)\n",
    "        self.n_empty = int(self.empty_ratio * len(self.all_houses))\n",
    "        self.isfull = [True] * len(self.all_houses)  #True for full, false for empty\n",
    "        self.isfull[-self.n_empty:] = [False]*self.n_empty\n",
    "        houses_by_races = []\n",
    "        for i in range(0,(len(self.all_houses)-self.n_empty)):\n",
    "            n = random.randint(1,self.races)\n",
    "            houses_by_races.append(n)\n",
    "        houses_by_races = houses_by_races + ([0] * self.n_empty)\n",
    "        self.tuple1 = tuple(zip(self.isfull, houses_by_races))\n",
    "        self.tuple2 = tuple(zip(self.all_houses, self.tuple1))\n",
    "        self.agents.update(self.tuple2)\n",
    "       #self.agents is our full dictionary containing all the agents \n",
    "        #create list for empty houses\n",
    "        for i in self.agents: \n",
    "            if self.agents[i][0] == False : \n",
    "                self.empty_houses.append(i)\n",
    "#             if self.agents[i][0] == True : \n",
    "#                 self.occupied_houses.append(i)\n",
    "    \n",
    "    #function that plots the scatter graph \n",
    "    def plot_city(self): \n",
    "        dict1 = {0: 'w', 1: 'r', 2: 'b', 3: 'g', 4: 'k' }\n",
    "        for key, value in self.agents.items():\n",
    "            plt.scatter(key[0]+0.5,key[1]+0.5, marker = \"s\", color = dict1[value[1]])\n",
    "        plt.xticks(range(0, self.width))\n",
    "        plt.yticks(range(0, self.height))\n",
    "        plt.grid()\n",
    "        plt.show()\n",
    "    \n",
    "    # checks if person is unsatisfied or unoccupied \n",
    "    def is_unsatisfied(self, cell):\n",
    "        difference = list(itertools.product(range(-1,2),range(-1,2)))\n",
    "        difference.remove((0,0))\n",
    "        self.neighbours = [(cell[0]+elem[0],cell[1]+elem[1]) for elem in difference]\n",
    "        count_sim = 0\n",
    "        count_tot = 0\n",
    "        for m in self.neighbours:\n",
    "            if m in self.agents: \n",
    "                count_tot = count_tot + 1 \n",
    "                race = self.agents[m][0] \n",
    "                if race == self.agents[cell][0]: \n",
    "                    count_sim = count_sim + 1\n",
    "        if count_sim / count_tot < self.similarity_threshold:\n",
    "#             print(count_tot)\n",
    "#             print(count_sim / count_tot)\n",
    "            return True \n",
    "        else : \n",
    "            return False\n",
    "        \n",
    "#     def sim_index(self):\n",
    "#         print (count_sim / count_tot )\n",
    "        \n",
    "\n",
    "    def update(self): \n",
    "        num_updates = 0 \n",
    "         #add an update constraint  \n",
    "        for cell in self.agents: \n",
    "            if self.is_unsatisfied(cell):\n",
    "                num_updates+=1\n",
    "                # cell becomes a random choice of empty houses list and it is updated \n",
    "                a = random.choice(self.empty_houses)\n",
    "                self.empty_houses.append(cell)\n",
    "                self.empty_houses.remove(a)\n",
    "\n",
    "#                 # occupied houses list is also updated\n",
    "#                 self.occupied_houses.append(a)\n",
    "#                 self.occupied_houses.remove(cell)\n",
    "\n",
    "                #update dictionary \n",
    "                self.agents.update({a : self.agents[cell]})\n",
    "                self.agents.update({cell : (False, 0)})\n",
    "    \n",
    "                \n",
    "        return num_updates\n",
    "    \n",
    "                    \n",
    "test = Schelling(5, 7, 0.2, 0.5, 1000, 4)\n",
    "test.populate()\n",
    "test.plot_city()\n",
    "# test.is_unsatisfied((3,2))\n",
    "num_updates=test.update()\n",
    "# test.sim_index()\n",
    "i=0\n",
    "while i < test.n_iterations and num_updates !=0:\n",
    "    num_updates= test.update()\n",
    "#     print(num_updates)\n",
    "    i+=1\n",
    "    \n",
    "test.plot_city()\n"
   ]
  },
  {
   "cell_type": "code",
   "execution_count": null,
   "metadata": {},
   "outputs": [],
   "source": []
  }
 ],
 "metadata": {
  "file_extension": ".py",
  "kernelspec": {
   "display_name": "Python 3",
   "language": "python",
   "name": "python3"
  },
  "language_info": {
   "codemirror_mode": {
    "name": "ipython",
    "version": 3
   },
   "file_extension": ".py",
   "mimetype": "text/x-python",
   "name": "python",
   "nbconvert_exporter": "python",
   "pygments_lexer": "ipython3",
   "version": "3.7.4"
  },
  "mimetype": "text/x-python",
  "name": "python",
  "npconvert_exporter": "python",
  "pygments_lexer": "ipython3",
  "version": 3
 },
 "nbformat": 4,
 "nbformat_minor": 4
}
